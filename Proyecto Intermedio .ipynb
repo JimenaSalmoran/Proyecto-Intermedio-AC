{
 "cells": [
  {
   "cell_type": "markdown",
   "id": "bf4565ec",
   "metadata": {},
   "source": [
    "\n",
    "  # Proyecto Intermedio\n",
    "##### De la Rosa Ruíz Ireric y Salmoran Salazar Jimena"
   ]
  },
  {
   "cell_type": "markdown",
   "id": "50e81ac9",
   "metadata": {},
   "source": [
    "### Ejercicio 3: Torres de Hanoi"
   ]
  },
  {
   "cell_type": "markdown",
   "id": "8733023b",
   "metadata": {},
   "source": [
    "## Ejercicio 3: Torres de Hanoi\n",
    "El juego de las Torres de Hanoi consiste en tres estacas (izquierda, central y derecha) y $n$ discos redondos de diferentes radios (perforados de forma que puedan encajar en las estacas). Inicialmente la estaca de la izquierda tiene todos los discos en orden creciente de tamaño de abajo hacia arriba.\n",
    "\n",
    "El objetivo del juego es mover todos los discos a la estaca de la derecha, usando la estaca central. En cada movimiento se desplaza el disco del extremo superior de una estaca a la otra, con la restricción de que no está permitido que un disco de radio mayor quede encima de uno de radio menor.\n",
    "\n",
    "Tu tarea es encontrar la secuencia de pasos que minimice el número de movimientos necesarios para cumplir el objetivo del juego. Es decir:\n",
    "\n",
    "#### Entrada\n",
    "Un valor entero positivo $n$ (el número de discos).\n",
    "#### Salida\n",
    "Imprime el entero $k$: el número mínimo de movimientos.\n",
    "\n",
    "Posteriormente imprime $k$ líneas que describan la secuencia de movimientos. Cada línea debe tener dos enteros, $a$ y $b$, que indican el movimiento: \n",
    "\n",
    "Mover el disco de la estaca $a$ a la estaca $b$, con $a, b ∈ 1, 2, 3$. Se considera que $1$ es el disco de la izquierda, $2$ el central y $3$ el de la derecha.\n",
    "\n",
    "$1.$ Diseña un algoritmo que resuelva este problema y justifica (no es necesario escribir una demostración) por qué devuelve el número mínimo de movimientos. Represéntalo en pseudocódigo o diagrama de flujo. \n",
    "\n",
    "\n",
    "$2$. Implementa el algoritmo en Julia. Tu programa será aceptado si devuelve las respuestas correctas para cada $n$, con $1 ≤ n ≤ 16$. \n"
   ]
  },
  {
   "cell_type": "markdown",
   "id": "790b1c6f",
   "metadata": {},
   "source": [
    "#### Pseudocódigo\n",
    "\n",
    "1. Inicia programa\n",
    "2. Define variables \n",
    "3. Defines número de discos en la Estaca Izquierda\n",
    "4. N=2^n-1\n",
    "5. Imprime el número total de movimientos mínimos necesarios para llegar a la respuesta\n",
    "6. Imprime la estaca de Inicio\n",
    "7. Definimos función\n",
    "8. Iniciamos ciclo If\n",
    "9. Si se cumple, sigue bloque de instrucciones\n",
    "10. Imprime el movimiento\n",
    "11. Se repite hasta que los discos de la Estaca Izquierda esten en la Estaca Derecha\n",
    "12. Fin de programa\n"
   ]
  },
  {
   "cell_type": "code",
   "execution_count": 43,
   "id": "a5a6c7e7",
   "metadata": {},
   "outputs": [
    {
     "name": "stdout",
     "output_type": "stream",
     "text": [
      "El numero total de movimientos mínimos necesarios es: 3\n",
      "Iniciando en la Estaca: A\n",
      "Mover el disco 1 de la estaca A a la estaca B\n",
      "Mover el disco 2 de la estaca A a la estaca C\n",
      "Mover el disco 1 de la estaca B a la estaca C\n"
     ]
    }
   ],
   "source": [
    "                 #Definimos variables\n",
    "EstI = \"A\"  \n",
    "EstC = \"C\" \n",
    "EstD = \"B\" \n",
    "n = 2\n",
    "\n",
    "N=2^n-1           #Para calcular el número mínimo de movimientos\n",
    "println(\"El numero total de movimientos mínimos necesarios es: \", N)\n",
    "\n",
    "println(\"Iniciando en la Estaca: \",EstI )\n",
    "                  # Definimos la función \n",
    "function Hanoi(n, EstI, EstD, EstC)\n",
    "if n>0                \n",
    "Hanoi(n-1, EstI, EstC, EstD)   # Bloque de instrucciones \n",
    " println(\"Mover el disco \", n, \" de la estaca \", EstI, \" a la estaca \", EstD)\n",
    "Hanoi(n-1, EstC, EstD, EstI)\n",
    "        \n",
    "end\n",
    "end\n",
    "\n",
    "Hanoi(n, EstI, EstC, EstD)\n"
   ]
  },
  {
   "cell_type": "markdown",
   "id": "ff749231",
   "metadata": {},
   "source": [
    "### Derivación\n",
    "1. Escribe una función que reciba como argumento otra funcion y un número real y que evalúe la derivada de esa función en el punto dado sin utilizar ninguna librería externa de Julia, el resultado debe ser otro número real. Prueba tu implementación con los siguientes valores: $f(x) = cos(x)$ en el punto $x = 2$, el resultado deber´ıa aproximarse a −0.909297..."
   ]
  },
  {
   "cell_type": "markdown",
   "id": "1bcbf0b3",
   "metadata": {},
   "source": [
    "La derivada es el resultado de un límite y representa la pendiente de la recta tangente a la gráfica de la función en un punto.\n",
    "La forma más simple y natural de aproximar una derivada es reemplazarla con una diferencia finita.\n",
    "$$f'(x)=\\lim_{h\\rightarrow0}\\frac{f(x+h)-f(x)}{h}$$ (Tejada, s. f.)\n",
    "\n"
   ]
  },
  {
   "cell_type": "markdown",
   "id": "3b6b6f85",
   "metadata": {},
   "source": [
    "Cuando $h$ es muy pequeño, errores de redondeo pueden llevar a un resultado sin sentido.(Tejada, s. f.)\n",
    "\n",
    "Cuando $h$ es muy grande, generar una aproximación muy pobre.(Tejada, s. f.)\n",
    "\n",
    "Una alternativa, con un error de aproximación menor, es construir la aproximación usando diferencias a los dos lados.\n",
    "\n",
    "$$f'(x)\\approx\\frac{f(x+h)-f(x- h)}{2h}$$\n",
    "Por lo que se usará lo anterior para realizar el codigó.\n"
   ]
  },
  {
   "cell_type": "code",
   "execution_count": 41,
   "id": "feebddb5",
   "metadata": {},
   "outputs": [
    {
     "data": {
      "text/plain": [
       "derivada (generic function with 1 method)"
      ]
     },
     "execution_count": 41,
     "metadata": {},
     "output_type": "execute_result"
    }
   ],
   "source": [
    "#Definimos la función \"derivada\"\n",
    "function derivada(fun,x)\n",
    "    #Entre más pequeña la h, mas preciso el resultado.\n",
    "    h = 0.1\n",
    "    #Método númerico\n",
    "    return (fun(x+h)-fun(x-h))/(2*h)\n",
    "end"
   ]
  },
  {
   "cell_type": "code",
   "execution_count": 20,
   "id": "7aaf2166",
   "metadata": {},
   "outputs": [
    {
     "data": {
      "text/plain": [
       "-0.907782688681771"
      ]
     },
     "execution_count": 20,
     "metadata": {},
     "output_type": "execute_result"
    }
   ],
   "source": [
    "g(x)=cos(x)\n",
    "derivada(g,2)"
   ]
  },
  {
   "cell_type": "markdown",
   "id": "159fc320",
   "metadata": {},
   "source": [
    "2. Añade un parámetro n a la función anterior que sirva para mejorar la precisión de cálculo,\n",
    "¿Qué valor debe tomar n para que el cálculo de la derivada anterior sea exacta en al menos 5\n",
    "dígitos? Justifica tu respuesta con código."
   ]
  },
  {
   "cell_type": "code",
   "execution_count": 21,
   "id": "44136e55",
   "metadata": {},
   "outputs": [
    {
     "data": {
      "text/plain": [
       "derivada2 (generic function with 1 method)"
      ]
     },
     "execution_count": 21,
     "metadata": {},
     "output_type": "execute_result"
    }
   ],
   "source": [
    "function derivada2(fun,x,n)\n",
    "    \n",
    "    #Mientras más grande la n, menor la h. Por lo tano, mayor exactitud.\n",
    "    h = 0.1/n\n",
    "    \n",
    "    return (fun(x+h)-fun(x-h))/(2*h)\n",
    "end"
   ]
  },
  {
   "cell_type": "code",
   "execution_count": 23,
   "id": "0d475dab",
   "metadata": {},
   "outputs": [
    {
     "data": {
      "text/plain": [
       "-0.9092822719443339"
      ]
     },
     "execution_count": 23,
     "metadata": {},
     "output_type": "execute_result"
    }
   ],
   "source": [
    "f(x)=cos(x)\n",
    "x = 2\n",
    "n = 10\n",
    "derivada2(f,x,n)"
   ]
  },
  {
   "cell_type": "code",
   "execution_count": 24,
   "id": "c646d017",
   "metadata": {},
   "outputs": [
    {
     "data": {
      "text/plain": [
       "-0.9092972752759998"
      ]
     },
     "execution_count": 24,
     "metadata": {},
     "output_type": "execute_result"
    }
   ],
   "source": [
    "f(x)=cos(x)\n",
    "x = 2\n",
    "n = 100\n",
    "derivada2(f,x,n)"
   ]
  },
  {
   "cell_type": "markdown",
   "id": "36f02911",
   "metadata": {},
   "source": [
    "3. Añade otra condición a la función del punto 1 que imprima un mensaje de error cuando la\n",
    "función no es derivable en ese punto. Prueba tu código con la función f(x) = log(x) en los\n",
    "puntos x = 0 y x = 1"
   ]
  },
  {
   "cell_type": "code",
   "execution_count": 30,
   "id": "1388afac",
   "metadata": {},
   "outputs": [
    {
     "data": {
      "text/plain": [
       "derivada3 (generic function with 1 method)"
      ]
     },
     "execution_count": 30,
     "metadata": {},
     "output_type": "execute_result"
    }
   ],
   "source": [
    "function derivada3(fun,x,n)\n",
    "    #Deriba la función\n",
    "    try\n",
    "        h = 0.1/n\n",
    "    \n",
    "        return (fun(x+h)-fun(x-h))/(2*h)\n",
    "        #Si no se puede realizar el proceso, manda mensaje de \"Error\"\n",
    "    catch e\n",
    "        println(\"ERROR, La función ingresada no es derivable en el punto x. Intenta de nuevo. \")\n",
    "    end\n",
    "end"
   ]
  },
  {
   "cell_type": "code",
   "execution_count": 31,
   "id": "03a4604a",
   "metadata": {},
   "outputs": [
    {
     "data": {
      "text/plain": [
       "1.0000003333334788"
      ]
     },
     "execution_count": 31,
     "metadata": {},
     "output_type": "execute_result"
    }
   ],
   "source": [
    "#Deribamos logaritmo de x en x=1\n",
    "f(x)=log(x)\n",
    "x = 1\n",
    "n = 100\n",
    "derivada3(f,x,n)"
   ]
  },
  {
   "cell_type": "code",
   "execution_count": 33,
   "id": "75e772a8",
   "metadata": {},
   "outputs": [
    {
     "name": "stdout",
     "output_type": "stream",
     "text": [
      "ERROR, La función ingresada no es derivable en el punto x. Intenta de nuevo. \n"
     ]
    }
   ],
   "source": [
    "#Deribamos logaritmo de x en x=0\n",
    "f(x)=log(x)\n",
    "x = 0\n",
    "n = 100\n",
    "derivada3(f,x,n)"
   ]
  },
  {
   "cell_type": "markdown",
   "id": "b3a1cebe",
   "metadata": {},
   "source": [
    "### Integración\n",
    "1. Escribe la función \"integrar\" con las siguientes características:\n",
    "function integrar(func, a, b, n)\n",
    "Evalúa la integral de una función en un intervalo dado con cierta precisión.\n",
    "\n",
    "*Parametros\n",
    "\n",
    "func : function\n",
    "Una función de julia que toma floats como valores\n",
    "a : float\n",
    "El limite inferiror a integrar\n",
    "b : float\n",
    "El limite superior a integrar\n",
    "n : integer\n",
    "La precisión del cálculo\n",
    "\n",
    "*Return\n",
    "\n",
    "float\n",
    "El resultado de integrar la funcion \"func\" en el intervalo [a, b]\n",
    "con precisión n.\n",
    "\n",
    "Prueba tu implementación con los siguientes valores: $f(x) = cos(x)$ en el intervalo $[0, π]$, el\n",
    "resultado debería aproximarse a 0 (3 puntos)."
   ]
  },
  {
   "cell_type": "markdown",
   "id": "e5e0ac9e",
   "metadata": {},
   "source": [
    "La Integral es un proceso que permite restituir una función que ha sido previamente derivada. Es decir, la operación opuesta de la derivada.Entoces las integrales son la herramienta que usamos para calcular el área bajo la curva. \n",
    "Existen diferentes tipos de integrales, para este ejercicio utilizaremos las integrales definidas.\n",
    "Las integrales definidas tienen la particularidad de ser calculadas en un intervalo definido de la función.(Tejada, s. f.)"
   ]
  },
  {
   "cell_type": "markdown",
   "id": "ae491c92",
   "metadata": {},
   "source": [
    "La funcion ponderadores podría ser la unidad $w(x)=1$, de tal manera que la integral representa el área bajo la función $f(x)$.\n",
    "Los metodos conocidos como partiduras aproximan la integral de la funcion con una suma ponderada de los valores de la función.\n",
    "Usaremos el metodo de Newton-Cotes, el cual usa polinomios para aproximar la función entre dos nodos.(Tejada, s. f.)"
   ]
  },
  {
   "cell_type": "markdown",
   "id": "62a9cc34",
   "metadata": {},
   "source": [
    "Para calcular una integral en forma \n",
    "$\\int_a^bf(x)dx$\n",
    "usando la regla basada en trapezoides. Sumando las subareas de un intervalo.\n"
   ]
  },
  {
   "cell_type": "code",
   "execution_count": 9,
   "id": "df2ce4fb",
   "metadata": {},
   "outputs": [
    {
     "data": {
      "text/plain": [
       "integral (generic function with 1 method)"
      ]
     },
     "execution_count": 9,
     "metadata": {},
     "output_type": "execute_result"
    }
   ],
   "source": [
    "#Definimos la función \"integral\"\n",
    "#func= función\n",
    "#a=límite inferior a integrar\n",
    "#b=límite superior a integrar\n",
    "#n=precisión del calculo\n",
    "function integral(func,x,n)\n",
    "#Límites de integración\n",
    "    a = x[1]\n",
    "    b = x[2]\n",
    "#Subintervalos\n",
    "    h = (b-a)/n\n",
    "    i = collect(range(0,stop=n,length=n+1))\n",
    "    x = a*ones(n+1) + i*h\n",
    "    \n",
    "    y = map(func, x)\n",
    "#Método de integración numerico basado en regla de trapezoides\n",
    "    return 0.5 * h * (2 * sum(y[2:length(y)-1])+y[1]+y[length(y)])\n",
    "end"
   ]
  },
  {
   "cell_type": "code",
   "execution_count": 8,
   "id": "d0294b2f",
   "metadata": {},
   "outputs": [
    {
     "data": {
      "text/plain": [
       "0.0"
      ]
     },
     "execution_count": 8,
     "metadata": {},
     "output_type": "execute_result"
    }
   ],
   "source": [
    "f(x) = cos(x)\n",
    "x = [0,pi]\n",
    "#Depende el tamaño  de \"n\" es la precisión del resultado(número de trapezoides)\n",
    "n= 1\n",
    "integral(f,x,n)"
   ]
  },
  {
   "cell_type": "code",
   "execution_count": 12,
   "id": "38749727",
   "metadata": {},
   "outputs": [
    {
     "data": {
      "text/plain": [
       "1.5707963267948968"
      ]
     },
     "execution_count": 12,
     "metadata": {},
     "output_type": "execute_result"
    }
   ],
   "source": [
    "#Ejemplo para justificar\n",
    "f(x) = sin(x)^2\n",
    "x = [0,pi]\n",
    "n=10\n",
    "integral(f,x,n)"
   ]
  },
  {
   "cell_type": "markdown",
   "id": "74eb0756",
   "metadata": {},
   "source": [
    "## Bibiografía\n",
    "1.Tejada, M. M. (s. f.). 10 Diferenciación e Integración Numérica | Introducción a la Programación en Julia. https://mauriciotejada.com/programacionjulia/diferenciaci%C3%B3n-e-integraci%C3%B3n-num%C3%A9rica.html#diferenciaci%C3%B3n\n",
    "\n",
    "2.Avila, J. (s. f.). Concepto de Derivada. http://recursostic.educacion.es/descartes/web/materiales_didacticos/Derivada_de_una_funcion/Derivada_de_una_funcion.htm\n",
    "\n",
    "3.Marta. (2022, 1 mayo). Ejercicios  resueltos de integrales definidas | Superprof. Material Didáctico - Superprof. https://www.superprof.es/apuntes/escolar/matematicas/calculo/integrales/ejercicios-resueltos-de-integrales-definidas.html\n",
    "\n",
    "4.Redacción. (2021). Integrales. Concepto de - Definición de. https://conceptodefinicion.de/integrales/\n"
   ]
  },
  {
   "cell_type": "code",
   "execution_count": null,
   "id": "067bd248",
   "metadata": {},
   "outputs": [],
   "source": []
  }
 ],
 "metadata": {
  "kernelspec": {
   "display_name": "Julia 1.8.5",
   "language": "julia",
   "name": "julia-1.8"
  },
  "language_info": {
   "file_extension": ".jl",
   "mimetype": "application/julia",
   "name": "julia",
   "version": "1.8.5"
  }
 },
 "nbformat": 4,
 "nbformat_minor": 5
}
